{
  "nbformat": 4,
  "nbformat_minor": 0,
  "metadata": {
    "colab": {
      "name": "Download 2008-2010 Data Entrepreneurs Data.ipynb",
      "provenance": []
    },
    "kernelspec": {
      "name": "python3",
      "display_name": "Python 3"
    }
  },
  "cells": [
    {
      "cell_type": "markdown",
      "metadata": {
        "id": "Z14-JJ7em_py"
      },
      "source": [
        "## **Graduate Program in Software**\n",
        "### SEIS 735: Healthcare Analytics\n",
        "### Assignment 5 (Team Assignment)\n",
        "**Team members -**\n",
        "Himanshu Gamit, Rigesh Kumar, Shubha Shubha, Shantanu Hadap\n"
      ]
    },
    {
      "cell_type": "markdown",
      "metadata": {
        "id": "wn-lrJRGs1Ml"
      },
      "source": [
        "Download data from the following website, and put your data into “computable/structure” format. The data will be used later for other assignments.\n",
        "\n",
        "[DE-SynPUF files](https://www.cms.gov/Research-Statistics-Data-and-Systems/Downloadable-PublicUse-Files/SynPUFs/DE_Syn_PUF.html)"
      ]
    },
    {
      "cell_type": "code",
      "metadata": {
        "id": "siLQQ6hhrFGC",
        "outputId": "b7eb5e40-4865-4c5e-90a7-cf8afe68ce29",
        "colab": {
          "base_uri": "https://localhost:8080/",
          "height": 35
        }
      },
      "source": [
        "#mount google drive\n",
        "from google.colab import drive\n",
        "drive.mount('/content/drive', force_remount=True)"
      ],
      "execution_count": null,
      "outputs": [
        {
          "output_type": "stream",
          "text": [
            "Mounted at /content/drive\n"
          ],
          "name": "stdout"
        }
      ]
    },
    {
      "cell_type": "code",
      "metadata": {
        "id": "Q99NLIGD8ZRx"
      },
      "source": [
        "# clear directories\n",
        "!rm -rf hca_dataset\n",
        "!rm -rf hca_dataset_unzipped\n",
        "!rm -rf '/content/drive/My Drive/HCA Dataset'\n",
        "!rm -rf sample_data\n",
        "# create a project folder in drive\n",
        "!mkdir '/content/drive/My Drive/HCA Dataset'\n"
      ],
      "execution_count": null,
      "outputs": []
    },
    {
      "cell_type": "code",
      "metadata": {
        "id": "6IjYIrwBrpH7"
      },
      "source": [
        "%%capture\n",
        "#download zip files\n",
        "download_root_url_1 ='https://www.cms.gov/Research-Statistics-Data-and-Systems/Downloadable-Public-Use-Files/SynPUFs/Downloads'\n",
        "download_root_url_2 = 'http://downloads.cms.gov/files'\n",
        "download_root_url_3 ='https://www.cms.gov/Research-Statistics-Data-and-Systems/Statistics-Trends-and-Reports/SynPUFs/Downloads'\n",
        "\n",
        "for sample in range(1,21):\n",
        "  download_path = '{}/sample_{}'.format('hca_dataset',sample)\n",
        "  #claim 1\n",
        "  claim_1 ='{}/DE1_0_2008_to_2010_Carrier_Claims_Sample_{}A.zip'.format(download_root_url_2,sample)\n",
        "  !wget $claim_1 -P $download_path\n",
        "  #claim 2\n",
        "  claim_2 = '{}/DE1_0_2008_to_2010_Carrier_Claims_Sample_{}B.zip'.format(download_root_url_2,sample)\n",
        "  !wget $claim_2 -P $download_path\n",
        "  #inpatient claim\n",
        "  inpatient_claim = '{}/DE1_0_2008_to_2010_Inpatient_Claims_Sample_{}.zip'.format(download_root_url_1,sample)\n",
        "  !wget $inpatient_claim -P $download_path\n",
        "  #outpatient claim\n",
        "  outpatient_claim = '{}/DE1_0_2008_to_2010_Outpatient_Claims_Sample_{}.zip'.format(download_root_url_1,sample)\n",
        "  !wget $outpatient_claim -P $download_path\n",
        "  #priscription drug event\n",
        "  priscription_drug = '{}/DE1_0_2008_to_2010_Prescription_Drug_Events_Sample_{}.zip'.format(download_root_url_2,sample)\n",
        "  !wget $priscription_drug -P $download_path\n",
        "  \n",
        "  for year in range(2008,2011):\n",
        "    #download beneficiary summary files for each year\n",
        "    benificiary_file='{}/DE1_0_{}_Beneficiary_Summary_File_Sample_{}.zip'.format(download_root_url_1,year,sample)\n",
        "    !wget  $benificiary_file -P $download_path\n",
        "    benificiary_file='{}/DE1_0_{}_Beneficiary_Summary_File_Sample_{}.zip'.format(download_root_url_3,year,sample)\n",
        "    !wget  -nc $benificiary_file -P $download_path"
      ],
      "execution_count": null,
      "outputs": []
    },
    {
      "cell_type": "code",
      "metadata": {
        "id": "-e86v9NjNDO3"
      },
      "source": [
        "%%capture\n",
        "# exception\n",
        "# sample 11, claim 1\n",
        "# claim 1\n",
        "claim_1 ='{}/DE1_0_2008_to_2010_Carrier_Claims_Sample_{}A.csv.zip'.format(download_root_url_2,11)\n",
        "!wget $claim_1 -P $download_path"
      ],
      "execution_count": null,
      "outputs": []
    },
    {
      "cell_type": "code",
      "metadata": {
        "id": "y33HL1zowdoK"
      },
      "source": [
        "%%capture\n",
        "#unzip files\n",
        "from pathlib import Path\n",
        "\n",
        "for sample in range(1,21):\n",
        "  download_path = 'hca_dataset/sample_{}'.format(sample)\n",
        "  unzip_path = 'hca_dataset_unzipped/sample_{}'.format(sample)\n",
        "  !mkdir 'hca_dataset_unzipped'\n",
        "  !mkdir $unzip_path\n",
        "  #claim 1\n",
        "  claim_1 ='{}/DE1_0_2008_to_2010_Carrier_Claims_Sample_{}A.zip'.format(download_path,sample)\n",
        "  !unzip -o $claim_1 -d $unzip_path\n",
        "  #claim 2\n",
        "  claim_2 = '{}/DE1_0_2008_to_2010_Carrier_Claims_Sample_{}B'.format(download_path,sample)\n",
        "  !unzip -o $claim_2 -d $unzip_path\n",
        "  #inpatient claim\n",
        "  inpatient_claim = '{}/DE1_0_2008_to_2010_Inpatient_Claims_Sample_{}'.format(download_path,sample)\n",
        "  !unzip -o $inpatient_claim -d $unzip_path\n",
        "  #outpatient claim\n",
        "  outpatient_claim = '{}/DE1_0_2008_to_2010_Outpatient_Claims_Sample_{}'.format(download_path,sample)\n",
        "  !unzip -o $outpatient_claim -d $unzip_path\n",
        "  #priscription drug event\n",
        "  priscription_drug = '{}/DE1_0_2008_to_2010_Prescription_Drug_Events_Sample_{}'.format(download_path,sample)\n",
        "  !unzip -o $priscription_drug -d $unzip_path\n",
        "  for year in range(2008,2011):\n",
        "    #unzip beneficiary summary files for each year\n",
        "    benificiary_file='{}/DE1_0_{}_Beneficiary_Summary_File_Sample_{}.zip'.format(download_path,year,sample)\n",
        "    file = Path(benificiary_file)\n",
        "    if file.is_file():\n",
        "      !unzip -o $benificiary_file -d $unzip_path"
      ],
      "execution_count": null,
      "outputs": []
    },
    {
      "cell_type": "code",
      "metadata": {
        "id": "Ey6PI6hmPSgp"
      },
      "source": [
        "%%capture\n",
        "# exception\n",
        "# sample 11, claim 1A\n",
        "# claim 1\n",
        "claim_1 ='{}/DE1_0_2008_to_2010_Carrier_Claims_Sample_{}A.csv.zip'.format(download_path,11)\n",
        "!unzip -o $claim_1 -d $unzip_path"
      ],
      "execution_count": null,
      "outputs": []
    },
    {
      "cell_type": "code",
      "metadata": {
        "id": "jLOIClyFoSIv"
      },
      "source": [
        "#remove zip folders\n",
        "!rm -rf hca_dataset"
      ],
      "execution_count": null,
      "outputs": []
    },
    {
      "cell_type": "code",
      "metadata": {
        "id": "6MPa_GKI6X8a"
      },
      "source": [
        "%%capture\n",
        "# zip the final folder\n",
        "!zip -r hca_dataset.zip hca_dataset_unzipped"
      ],
      "execution_count": null,
      "outputs": []
    },
    {
      "cell_type": "code",
      "metadata": {
        "id": "S5TE3aCW1m7h"
      },
      "source": [
        "#remove unzip folder\n",
        "!rm -rf hca_dataset_unzipped"
      ],
      "execution_count": null,
      "outputs": []
    },
    {
      "cell_type": "code",
      "metadata": {
        "id": "OCQZ7-WUNUfu",
        "outputId": "ffe4a7dc-1103-4dc1-ecbe-e875c6605c9b",
        "colab": {
          "base_uri": "https://localhost:8080/",
          "height": 35
        }
      },
      "source": [
        "#move the zip file to drive\n",
        "import shutil \n",
        "shutil.copy('/content/hca_dataset.zip','/content/drive/My Drive/HCA Dataset')"
      ],
      "execution_count": null,
      "outputs": [
        {
          "output_type": "execute_result",
          "data": {
            "application/vnd.google.colaboratory.intrinsic+json": {
              "type": "string"
            },
            "text/plain": [
              "'/content/drive/My Drive/HCA Dataset/hca_dataset.zip'"
            ]
          },
          "metadata": {
            "tags": []
          },
          "execution_count": 10
        }
      ]
    },
    {
      "cell_type": "code",
      "metadata": {
        "id": "O8rJrxpr0Ns-"
      },
      "source": [
        ""
      ],
      "execution_count": null,
      "outputs": []
    }
  ]
}